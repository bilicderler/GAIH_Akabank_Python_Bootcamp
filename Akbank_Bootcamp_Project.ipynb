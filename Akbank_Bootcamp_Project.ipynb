{
  "nbformat": 4,
  "nbformat_minor": 0,
  "metadata": {
    "colab": {
      "provenance": [],
      "toc_visible": true,
      "mount_file_id": "1gBzAJYdNsfGi_anMSFyzCUWS2ARlZzA4",
      "authorship_tag": "ABX9TyOnnFJ30uqo0e8m3u+EDAsw",
      "include_colab_link": true
    },
    "kernelspec": {
      "name": "python3",
      "display_name": "Python 3"
    },
    "language_info": {
      "name": "python"
    }
  },
  "cells": [
    {
      "cell_type": "markdown",
      "metadata": {
        "id": "view-in-github",
        "colab_type": "text"
      },
      "source": [
        "<a href=\"https://colab.research.google.com/github/bilicderler/GAIH_Akabank_Python_Bootcamp/blob/main/Akbank_Bootcamp_Project.ipynb\" target=\"_parent\"><img src=\"https://colab.research.google.com/assets/colab-badge.svg\" alt=\"Open In Colab\"/></a>"
      ]
    },
    {
      "cell_type": "markdown",
      "source": [
        "#-> Import the libraries"
      ],
      "metadata": {
        "id": "RjLLsDjBwbjB"
      }
    },
    {
      "cell_type": "code",
      "execution_count": null,
      "metadata": {
        "id": "2Q1Hr6qtbqFk"
      },
      "outputs": [],
      "source": [
        "import csv\n",
        "import datetime"
      ]
    },
    {
      "cell_type": "markdown",
      "source": [
        "#  -> Create a txt file if doesn't exist and write the necessaries"
      ],
      "metadata": {
        "id": "g0i-lpBedSd2"
      }
    },
    {
      "cell_type": "code",
      "source": [
        "f = open(\"Menu.txt\", \"w\")\n",
        "f.write(\"* Please Select a Pizza Base:\\n\n",
        "1: Classic\\n\n",
        "2: Margharita\\n\n",
        "3: Turkish Pizza\\n\n",
        "4: Dominos Pizza\\n\n",
        "5: Last one\\\n",
        "\n",
        "* and sauce of your choice:\\n\n",
        "11: Olive\\n\n",
        "12: Mushroom\\n\n",
        "13: Goat Cheese\\n\n",
        "14: Meat\\n\n",
        "15: Onion\\n\n",
        "16: Sweetcorn\\n\n",
        "* We thank you!.. \")"
      ],
      "metadata": {
        "id": "MIrBSTT0cJgb"
      },
      "execution_count": null,
      "outputs": []
    },
    {
      "cell_type": "markdown",
      "source": [
        "# -> Create the super and sub classes"
      ],
      "metadata": {
        "id": "D9NOVZmccBEi"
      }
    },
    {
      "cell_type": "code",
      "source": [
        "Class Pizza:\n",
        "  def __init__(self,cost,description):\n",
        "    self.description=description\n",
        "    self.cost=cost\n",
        "\n",
        "  def get_description(self):\n",
        "    return self.description\n",
        "  def get_cost(self): \n",
        "    return self.cost\n",
        "\n",
        "Class Classic(Pizza):\n",
        "  def __init__(self):\n",
        "    super().__init__(description=\"Classic pizza is a round, flat bread base topped with tomato sauce, mozzarella cheese, and various other ingredients such as meats and vegetables\", cost=20)\n",
        "  cost += self.cost\n",
        "\n",
        "Class Margherita(Pizza):\n",
        "  def __init__(self):\n",
        "    super().__init__(description=\"Made with fresh marinara sauce, mozzarella cheese, and basil, Margherita pizza is simple, classic, so easy, and absolutely delicious!\", cost=13)\n",
        "  cost += self.cost\n",
        "\n",
        "Class Turkish_Pizza(Pizza):\n",
        "  def __init__(self):\n",
        "    super().__init__(description=\"Turkish pizza, also known as lahmacun, is a thin, crispy flatbread typically topped with a mixture of minced meat (usually lamb or beef), vegetables, and herbs. The meat is seasoned with a blend of spices such as cumin, paprika, and chili powder, and the toppings may also include tomatoes, onions, and parsley. The flatbread is then baked in a very hot oven until crispy and served with a squeeze of lemon juice and a side of fresh vegetables or salad\", cost=5)\n",
        "  cost += self.cost\n",
        "\n",
        "Class Dominos_pizza(Pizza):\n",
        "  def __init__(self):\n",
        "    super().__init__(description=\"Domino's Pizza is a popular American pizza chain that offers a variety of pizzas and other menu items. The pizzas are typically made with a hand-tossed dough base, tomato sauce, and mozzarella cheese, and customers can choose from a range of toppings including meats, vegetables, and sauces.\", cost=10)\n",
        "  cost += self.cost\n",
        "\n",
        "\n",
        "Class Sauce(Pizza):\n",
        "  def __init__(self,cost,description):\n",
        "    self.description=description\n",
        "    self.cost=cost\n",
        "\n",
        "  def get_description(self):\n",
        "    return self.description\n",
        "  def get_cost(self): \n",
        "    return self.cost\n",
        "\n",
        "Class Olive(Sauce):\n",
        "  def __init__(self):\n",
        "    super().__init__(description=\"Olive sauce for pizza is a type of sauce made primarily from olives and can be used as a topping or spread on pizza. It is typically made by blending or pureeing olives with other ingredients such as olive oil, garlic, and herbs to create a flavorful and slightly tangy sauce. The consistency of olive sauce can vary, ranging from chunky to smooth, and it can be used as a substitute for traditional tomato sauce or as a complementary flavor. \", cost=3)\n",
        "  cost += self.cost\n",
        "\n",
        "Class Mushroom(Sauce):\n",
        "  def __init__(self):\n",
        "    super().__init__(description=\"Mushroom sauce for pizza is a type of sauce made primarily from mushrooms and can be used as a topping or spread on pizza. It is typically made by sautéing mushrooms with other ingredients such as garlic, herbs, and cream to create a rich and savory sauce. The consistency of mushroom sauce can vary, ranging from thin and smooth to thick and chunky, and it can be used as a substitute for traditional tomato sauce or as a complementary flavor.\", cost=3)\n",
        "  cost += self.cost\n",
        "\n",
        "Class Goat_cheese(Sauce):\n",
        "  def __init__(self):\n",
        "    super().__init__(description=\"Goat cheese sauce for pizza is a type of sauce made primarily from goat cheese and can be used as a topping or spread on pizza. It is typically made by blending or mixing goat cheese with other ingredients such as garlic, herbs, and cream to create a tangy and creamy sauce. The consistency of goat cheese sauce can vary, ranging from thick and spreadable to thin and pourable, and it can be used as a substitute for traditional tomato sauce or as a complementary flavor. \", cost=5)\n",
        "  cost += self.cost\n",
        "\n",
        "Class Meat(Sauce):\n",
        "  def __init__(self):\n",
        "    super().__init__(description=\"Meat sauce for pizza is a type of sauce made primarily from meat and can be used as a topping or spread on pizza. It is typically made by cooking ground meat with other ingredients such as tomatoes, onions, and herbs to create a rich and flavorful sauce. The consistency of meat sauce can vary, ranging from thick and chunky to thin and smooth, and it is often used as a substitute for traditional tomato sauce or as a complementary flavor.\", cost=5)\n",
        "  cost += self.cost\n",
        "\n",
        "Class Onion(Sauce):\n",
        "  def __init__(self):\n",
        "    super().__init__(description=\"Onion sauce for pizza is a type of sauce made primarily from onions and can be used as a topping or spread on pizza. It is typically made by sautéing onions with other ingredients such as garlic, herbs, and tomatoes to create a sweet and savory sauce. The consistency of onion sauce can vary, ranging from thin and smooth to thick and chunky, and it can be used as a substitute for traditional tomato sauce or as a complementary flavor.\", cost=3)\n",
        "  cost += self.cost\n",
        "\n",
        "Class Sweetcorn(Sauce):\n",
        "  def __init__(self):\n",
        "    super().__init__(description=\"Sweetcorn sauce for pizza is a type of sauce made primarily from sweetcorn and can be used as a topping or spread on pizza. It is typically made by blending or pureeing sweetcorn with other ingredients such as garlic, herbs, and cream to create a sweet and slightly tangy sauce. The consistency of sweetcorn sauce can vary, ranging from thin and smooth to thick and chunky, and it can be used as a substitute for traditional tomato sauce or as a complementary flavor.\", cost=4)\n",
        "  cost += self.cost\n",
        "  "
      ],
      "metadata": {
        "id": "J5WhOnSydvFw"
      },
      "execution_count": null,
      "outputs": []
    },
    {
      "cell_type": "markdown",
      "source": [
        "#-> Code to database"
      ],
      "metadata": {
        "id": "oGfi822UyVva"
      }
    },
    {
      "cell_type": "code",
      "source": [
        "row_list = [\"Name\", \"Customers' Id\", \"Customers' Card Number\", \"Customers' Order\", \"Orders' Date & Time\", \"Customers' Card Password\"]\n",
        "  with open('students.csv', 'w', newline='') as file:\n",
        "      writer = csv.writer(file, delimiter='|')\n",
        "      writer.writerows(row_list)\n",
        "\n",
        "write_datas(cus_name, cus_id, cus_card_no, choose_p, choose_s, now, cus_card_pass):\n",
        "  row_list = [ cus_name, cus_id, cus_card_no, choose_p + \" and sauce with \" + choose_s, now, cus_card_pass]\n",
        "  with open('students.csv', 'w', newline='') as file:\n",
        "      writer = csv.writer(file, delimiter='|')\n",
        "      writer.writerows(row_list)"
      ],
      "metadata": {
        "id": "Q75YINBauP7S"
      },
      "execution_count": null,
      "outputs": []
    },
    {
      "cell_type": "markdown",
      "source": [
        "#-> Match-Case Operations to Choose"
      ],
      "metadata": {
        "id": "Cmw0_zlI0pZc"
      }
    },
    {
      "cell_type": "code",
      "source": [
        "choose_pizza(ch_p):\n",
        "  match ch_p:\n",
        "    case 1: \n",
        "      Classic(Pizza)\n",
        "    case 2:\n",
        "      Margherita(Pizza)\n",
        "    case 3:\n",
        "      Turkish_Pizza(Pizza)\n",
        "    case 4:\n",
        "      Dominos_pizza(Pizza)\n",
        "    case 5:\n",
        "      continue\n",
        "    \n",
        "choose_sauce(ch_s):\n",
        "  match ch_s:\n",
        "    case 11: \n",
        "      Olive(Sauce)\n",
        "    case 12:\n",
        "      Mushroom(Sauce)\n",
        "    case 13:\n",
        "      Goat_cheese(Sauce)\n",
        "    case 14:\n",
        "      Meat(Sauce)\n",
        "    case 15:\n",
        "      Onion(Sauce)\n",
        "    case 16:\n",
        "      Sweetcorn(Sauce)"
      ],
      "metadata": {
        "id": "nceSQ0LlVCIk"
      },
      "execution_count": null,
      "outputs": []
    },
    {
      "cell_type": "markdown",
      "source": [
        "#-> Main Function"
      ],
      "metadata": {
        "id": "JCNqJeUoXj0u"
      }
    },
    {
      "cell_type": "code",
      "source": [
        "def main():\n",
        "  choose_p = []\n",
        "  choose_s = []\n",
        "  f = open(\"Menu.txt\", \"r\")\n",
        "  print(f.read())\n",
        "  cost = 0\n",
        "  while(control != e or control != E)\n",
        "    c_p = input(\"Write the pizza number you want to choose, please: \")\n",
        "    choose_p.append(choose_pizza(c_p))\n",
        "    c_s = input(\"Write the sauce number you want to choose, please: \")\n",
        "    choose_s.append(choose_sauce(c_s))\n",
        "    control = input(\"If you want to exit from choosing, please press e or E: \")\n",
        "    \n",
        "  print(\"Your invoice amount is: $\" +cost+ \"\\n To pay the bill; \")\n",
        "  cus_name = input(\"Enter your name, please: \") \n",
        "  cus_id = input(\"Enter your id number, please: \") \n",
        "  cus_card_no = input(\"Enter your card number, please: \")\n",
        "  cus_card_pass = input(\"Enter your card password, please: \")\n",
        "  now = datetime.datetime.now()\n",
        "  write_datas(cus_name, cus_id, cus_card_no, choose_p, choose_s, now, cus_card_pass)\n",
        "\n",
        "if __name__ == \"__main__\":\n",
        "    main()"
      ],
      "metadata": {
        "id": "UBNsgoCWyySp"
      },
      "execution_count": null,
      "outputs": []
    }
  ]
}